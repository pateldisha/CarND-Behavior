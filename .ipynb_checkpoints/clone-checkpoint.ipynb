{
 "cells": [
  {
   "cell_type": "code",
   "execution_count": 61,
   "metadata": {
    "collapsed": true
   },
   "outputs": [],
   "source": [
    "import os\n",
    "import csv\n",
    "import cv2\n",
    "import numpy as np\n",
    "import sklearn\n",
    "import matplotlib.pyplot as plt\n",
    "import matplotlib.image as mpimg\n",
    "\n",
    "from random import shuffle\n",
    "\n",
    "from sklearn.model_selection import train_test_split\n",
    "\n",
    "from keras.layers.advanced_activations import ELU"
   ]
  },
  {
   "cell_type": "code",
   "execution_count": 90,
   "metadata": {},
   "outputs": [],
   "source": [
    "images = []\n",
    "samples = []\n",
    "with open('driving_log.csv') as csvfile:\n",
    "    reader = csv.reader(csvfile)\n",
    "    for line in reader:\n",
    "        samples.append(line)\n",
    "\n",
    "for sample in samples:\n",
    "    \n",
    "    name = 'data/IMG/'+sample[0].split('/')[-1]\n",
    "    center_image = mpimg.imread(name)\n",
    "    images.append(center_image)\n",
    "    #image_RGB = cv2.cvtColor(center_image, cv2.COLOR_BGR2RGB)\n",
    "\n",
    "\n",
    "#train_samples, validation_samples = train_test_split(samples, test_size=0.2)\n",
    "#train_samples = train_samples\n",
    "#validation_samples = validation_samples\n",
    "\n",
    "\n",
    "%matplotlib inline"
   ]
  },
  {
   "cell_type": "code",
   "execution_count": 92,
   "metadata": {},
   "outputs": [],
   "source": [
    "#plt.imshow(images[1])"
   ]
  },
  {
   "cell_type": "code",
   "execution_count": 30,
   "metadata": {
    "collapsed": true
   },
   "outputs": [],
   "source": [
    "def generator(samples, batch_size=100):\n",
    "    num_samples = (len(samples)//batch_size) *batch_size\n",
    "    X_batch = np.zeros((batch_size, 160, 320, 3), dtype=np.float32)\n",
    "    y_batch = np.zeros((batch_size,), dtype=np.float32)\n",
    "    shuffle(samples)\n",
    "    while 1: # Loop forever so the generator never terminates\n",
    "        for offset in range(1, num_samples, batch_size):\n",
    "            batch_samples = samples[offset:offset+batch_size]\n",
    "            \n",
    "            images = []\n",
    "            angles = []\n",
    "            for batch_sample in batch_samples[1:]:\n",
    "                name = 'data/IMG/'+batch_samples[0].split('/')[-1]\n",
    "                center_image = mpimg.imread(name)\n",
    "                center_angle = float(batch_sample[3])\n",
    "                images.append(center_image)\n",
    "                angles.append(center_angle)\n",
    "\n",
    "            # trim image to only see section with road\n",
    "                X_batch = np.array(images)\n",
    "                y_batch = np.array(angles)\n",
    "            yield X_batch, y_batch"
   ]
  },
  {
   "cell_type": "code",
   "execution_count": 72,
   "metadata": {
    "collapsed": true
   },
   "outputs": [],
   "source": [
    "def augment_brightness_camera_images(image):\n",
    "    '''\n",
    "    :param image: Input image\n",
    "    :return: output image with randomly adjusted brightness\n",
    "    '''\n",
    "\n",
    "    # convert to HSV so that its easy to adjust brightness\n",
    "    image1 = cv2.cvtColor(image,cv2.COLOR_RGB2HSV)\n",
    "\n",
    "    # randomly generate the brightness reduction factor\n",
    "    # Add a constant so that it prevents the image from being completely dark\n",
    "    random_bright = .25+np.random.uniform()\n",
    "\n",
    "    # Apply the brightness reduction to the V channel\n",
    "    image1[:,:,2] = image1[:,:,2]*random_bright\n",
    "\n",
    "    # convert to RBG again\n",
    "    image1 = cv2.cvtColor(image1,cv2.COLOR_HSV2RGB)\n",
    "    return image1"
   ]
  },
  {
   "cell_type": "code",
   "execution_count": 93,
   "metadata": {
    "collapsed": true
   },
   "outputs": [],
   "source": [
    "def my_generator(samples, batch_size=32):\n",
    "    N = (len(samples)//batch_size)*batch_size  # make the number of samples in 'lines' a multiple of batch_size\n",
    "\n",
    "    X_batch = np.zeros((batch_size, 160, 320, 3), dtype=np.float32)\n",
    "    y_batch = np.zeros((batch_size,), dtype=np.float32)\n",
    "    \n",
    "    while True:\n",
    "        for i in range(0, N, batch_size):\n",
    "            batch_start = i\n",
    "            batch_stop = i + batch_size\n",
    "            batch_lines = samples[batch_start:batch_stop]\n",
    "\n",
    "            for j, line in enumerate(batch_lines):\n",
    "                image = 'data/IMG/'+line[0].split('/')[-1]\n",
    "                image = mpimg.imread(image)\n",
    "                # crop\n",
    "                #image = image[50:135,:,:]\n",
    "                #image = cv2.resize(image, (200, 66))\n",
    "                #image_BGR = cv2.resize(image,(200, 66), interpolation = cv2.INTER_AREA)\n",
    "                #image = cv2.cvtColor(image_BGR,cv2.COLOR_BGR2RGB)\n",
    "                image = augment_brightness_camera_images(image)\n",
    "                \n",
    "                #image_RGB = cv2.cvtColor(image, cv2.COLOR_BGR2RGB)\n",
    "                steering = float(line[3])\n",
    "\n",
    "                X_batch[j] = image\n",
    "                y_batch[j] = steering\n",
    "           \n",
    "            yield (X_batch, y_batch)\n"
   ]
  },
  {
   "cell_type": "code",
   "execution_count": 94,
   "metadata": {},
   "outputs": [
    {
     "name": "stdout",
     "output_type": "stream",
     "text": [
      "Epoch 1/1\n",
      "6400/6428 [============================>.] - ETA: 0s - loss: 0.5613"
     ]
    },
    {
     "name": "stderr",
     "output_type": "stream",
     "text": [
      "/home/carnd/anaconda3/envs/carnd-term1/lib/python3.5/site-packages/keras/engine/training.py:1569: UserWarning: Epoch comprised more than `samples_per_epoch` samples, which might affect learning results. Set `samples_per_epoch` correctly to avoid this warning.\n",
      "  warnings.warn('Epoch comprised more than '\n"
     ]
    },
    {
     "name": "stdout",
     "output_type": "stream",
     "text": [
      "6432/6428 [==============================] - 25s - loss: 0.5585 - val_loss: 0.0166\n"
     ]
    }
   ],
   "source": [
    "# compile and train the model using the generator function\n",
    "train_generator = my_generator(train_samples, batch_size=32)\n",
    "validation_generator = my_generator(validation_samples, batch_size=32)\n",
    "\n",
    "ch, row, col = 3, 160, 320  # Trimmed image format\n",
    "\n",
    "model = Sequential()\n",
    "\n",
    "model.add(Lambda(lambda x: (x / 127.5) - 1.0, input_shape=(160,320,3),output_shape=(160,320,3)))\n",
    "#model.add(Flatten(input_shape=(160,320,3)))\n",
    "model.add(Convolution2D(6,5,5, input_shape=(160,320,3),activation='relu'))\n",
    "model.add(MaxPooling2D())\n",
    "model.add(Convolution2D(6,5,5, activation='relu'))\n",
    "model.add(MaxPooling2D())\n",
    "model.add(Flatten())\n",
    "model.add(Dense(120))\n",
    "model.add(Dense(84))\n",
    "model.add(Dense(1))\n",
    "model.compile(loss='mse', optimizer='adam')\n",
    "model.fit_generator(train_generator, samples_per_epoch= len(train_samples), validation_data=validation_generator, nb_val_samples=len(validation_samples), nb_epoch=1)\n",
    "\n",
    "model.save('model1.h5')"
   ]
  },
  {
   "cell_type": "code",
   "execution_count": 96,
   "metadata": {},
   "outputs": [
    {
     "name": "stdout",
     "output_type": "stream",
     "text": [
      "Epoch 1/1\n",
      "6400/6428 [============================>.] - ETA: 0s - loss: 1.3155"
     ]
    },
    {
     "name": "stderr",
     "output_type": "stream",
     "text": [
      "/home/carnd/anaconda3/envs/carnd-term1/lib/python3.5/site-packages/keras/engine/training.py:1569: UserWarning: Epoch comprised more than `samples_per_epoch` samples, which might affect learning results. Set `samples_per_epoch` correctly to avoid this warning.\n",
      "  warnings.warn('Epoch comprised more than '\n"
     ]
    },
    {
     "name": "stdout",
     "output_type": "stream",
     "text": [
      "6432/6428 [==============================] - 23s - loss: 1.3094 - val_loss: 0.2031\n"
     ]
    }
   ],
   "source": [
    "#NVIDIA\n",
    "\n",
    "# compile and train the model using the generator function\n",
    "train_generator = my_generator(train_samples, batch_size=32)\n",
    "validation_generator = my_generator(validation_samples, batch_size=32)\n",
    "\n",
    "ch, row, col = 3, 160, 320\n",
    "\n",
    "model = Sequential()\n",
    "model.add(Lambda(lambda x: x/127.5 - 1., input_shape=(row, col, ch)))\n",
    "model.add(Convolution2D(16, 8, 8, subsample=(4, 4), border_mode=\"same\"))\n",
    "model.add(ELU())\n",
    "model.add(Convolution2D(32, 5, 5, subsample=(2, 2), border_mode=\"same\"))\n",
    "model.add(ELU())\n",
    "model.add(Convolution2D(64, 5, 5, subsample=(2, 2), border_mode=\"same\"))\n",
    "model.add(Flatten())\n",
    "model.add(Dropout(.2))\n",
    "model.add(ELU())\n",
    "model.add(Dense(512))\n",
    "model.add(Dropout(.5))\n",
    "model.add(ELU())\n",
    "model.add(Dense(1))\n",
    "\n",
    "model.compile(loss = 'mse', optimizer= 'adam')\n",
    "\n",
    "#model.fit(X_train, y_train, validation_split = 0.2, shuffle = True, nb_epoch = 1)\n",
    "\n",
    "model.fit_generator(train_generator, samples_per_epoch= len(train_samples), validation_data=validation_generator, nb_val_samples=len(validation_samples), nb_epoch=1)\n",
    "\n",
    "model.save('model1.h5')\n"
   ]
  },
  {
   "cell_type": "code",
   "execution_count": 63,
   "metadata": {},
   "outputs": [],
   "source": [
    "from keras.models import Sequential, Model\n",
    "from keras.layers.core import Dense, Flatten, Lambda, Dropout\n",
    "from keras.layers.core import Lambda\n",
    "from keras.layers import Convolution2D\n",
    "from keras.layers.pooling import MaxPooling2D\n",
    "from keras.layers import Cropping2D"
   ]
  },
  {
   "cell_type": "code",
   "execution_count": 30,
   "metadata": {
    "collapsed": true
   },
   "outputs": [],
   "source": [
    "model = Sequential()\n",
    "model.add(Lambda(lambda x: (x / 255.0) - 0.5, input_shape=(160,320,3)))\n",
    "#model.add(Flatten(input_shape=(160,320,3)))\n",
    "model.add(Convolution2D(6,5,5, input_shape=(160,320,3),activation='relu'))\n",
    "model.add(MaxPooling2D())\n",
    "model.add(Convolution2D(6,5,5, activation='relu'))\n",
    "model.add(MaxPooling2D())\n",
    "model.add(Flatten())\n",
    "model.add(Dense(120))\n",
    "model.add(Dense(84))\n",
    "model.add(Dense(1))\n",
    "          "
   ]
  },
  {
   "cell_type": "code",
   "execution_count": 31,
   "metadata": {},
   "outputs": [
    {
     "name": "stdout",
     "output_type": "stream",
     "text": [
      "Train on 19286 samples, validate on 4822 samples\n",
      "Epoch 1/1\n",
      "19286/19286 [==============================] - 2849s - loss: 0.9748 - val_loss: 0.0123\n"
     ]
    }
   ],
   "source": [
    "model.compile(loss='mse', optimizer='adam')\n",
    "model.fit(X_train,y_train, validation_split=0.2, shuffle=True,nb_epoch=1)\n",
    "model.save('model.h5')"
   ]
  }
 ],
 "metadata": {
  "kernelspec": {
   "display_name": "Python 3",
   "language": "python",
   "name": "python3"
  },
  "language_info": {
   "codemirror_mode": {
    "name": "ipython",
    "version": 3
   },
   "file_extension": ".py",
   "mimetype": "text/x-python",
   "name": "python",
   "nbconvert_exporter": "python",
   "pygments_lexer": "ipython3",
   "version": "3.5.4"
  },
  "widgets": {
   "state": {},
   "version": "1.1.2"
  }
 },
 "nbformat": 4,
 "nbformat_minor": 2
}
