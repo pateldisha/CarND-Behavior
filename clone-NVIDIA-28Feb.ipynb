{
 "cells": [
  {
   "cell_type": "code",
   "execution_count": 4,
   "metadata": {},
   "outputs": [],
   "source": [
    "import os\n",
    "import csv\n",
    "import cv2\n",
    "import numpy as np\n",
    "import sklearn\n",
    "import matplotlib.pyplot as plt\n",
    "import matplotlib.image as mpimg\n",
    "import random\n",
    "\n",
    "from random import shuffle\n",
    "\n",
    "from sklearn.model_selection import train_test_split\n",
    "\n",
    "from keras.layers.advanced_activations import ELU"
   ]
  },
  {
   "cell_type": "code",
   "execution_count": 5,
   "metadata": {
    "collapsed": true
   },
   "outputs": [],
   "source": [
    "from keras.models import Sequential, Model\n",
    "from keras.layers.core import Dense, Flatten, Lambda, Dropout, Activation\n",
    "from keras.layers.core import Lambda\n",
    "from keras.layers import Convolution2D\n",
    "from keras.layers.pooling import MaxPooling2D\n",
    "from keras.layers import Cropping2D"
   ]
  },
  {
   "cell_type": "code",
   "execution_count": 10,
   "metadata": {},
   "outputs": [
    {
     "ename": "MemoryError",
     "evalue": "",
     "output_type": "error",
     "traceback": [
      "\u001b[0;31m---------------------------------------------------------------------------\u001b[0m",
      "\u001b[0;31mMemoryError\u001b[0m                               Traceback (most recent call last)",
      "\u001b[0;32m<ipython-input-10-4cee8cef0542>\u001b[0m in \u001b[0;36m<module>\u001b[0;34m()\u001b[0m\n\u001b[1;32m     39\u001b[0m \u001b[0;31m#train_samples, validation_samples = train_test_split(samples, test_size=0.2)\u001b[0m\u001b[0;34m\u001b[0m\u001b[0;34m\u001b[0m\u001b[0m\n\u001b[1;32m     40\u001b[0m \u001b[0;34m\u001b[0m\u001b[0m\n\u001b[0;32m---> 41\u001b[0;31m \u001b[0mX_train\u001b[0m \u001b[0;34m=\u001b[0m \u001b[0mnp\u001b[0m\u001b[0;34m.\u001b[0m\u001b[0marray\u001b[0m\u001b[0;34m(\u001b[0m\u001b[0mimages\u001b[0m\u001b[0;34m)\u001b[0m\u001b[0;34m\u001b[0m\u001b[0m\n\u001b[0m\u001b[1;32m     42\u001b[0m \u001b[0my_train\u001b[0m \u001b[0;34m=\u001b[0m \u001b[0mnp\u001b[0m\u001b[0;34m.\u001b[0m\u001b[0marray\u001b[0m\u001b[0;34m(\u001b[0m\u001b[0mmeasurements\u001b[0m\u001b[0;34m)\u001b[0m\u001b[0;34m\u001b[0m\u001b[0m\n\u001b[1;32m     43\u001b[0m \u001b[0;34m\u001b[0m\u001b[0m\n",
      "\u001b[0;31mMemoryError\u001b[0m: "
     ]
    }
   ],
   "source": [
    "images = []\n",
    "measurements = []\n",
    "samples = []\n",
    "img = []\n",
    "with open('driving_log.csv') as csvfile:\n",
    "    reader = csv.reader(csvfile)\n",
    "    for line in reader:\n",
    "        samples.append(line)\n",
    "        \n",
    "for line in samples:\n",
    "    image = 'data/IMG/'+line[0].split('/')[-1]\n",
    "    image = mpimg.imread(image)\n",
    "    image = augment_brightness_camera_images(image)\n",
    "    images.append(image)\n",
    "    measurement = float(line[3])\n",
    "    measurements.append(measurement)\n",
    "    image = augment_brightness_camera_images(image)\n",
    "    images.append(image)\n",
    "    measurements.append(measurement)\n",
    "    \n",
    "    image = 'data/IMG/'+line[1].split('/')[-1]\n",
    "    image = mpimg.imread(image)\n",
    "    image = augment_brightness_camera_images(image)\n",
    "    images.append(image)\n",
    "    measurement = float(line[3]) + 0.25\n",
    "    measurements.append(measurement)\n",
    "    image = augment_brightness_camera_images(image)\n",
    "    images.append(image)\n",
    "    measurements.append(measurement)\n",
    "    \n",
    "    image = 'data/IMG/'+line[2].split('/')[-1]\n",
    "    image = mpimg.imread(image)\n",
    "    images.append(image)\n",
    "    measurement = float(line[3]) - 0.25\n",
    "    measurements.append(measurement)\n",
    "    image = augment_brightness_camera_images(image)\n",
    "    images.append(image)\n",
    "    measurements.append(measurement)\n",
    "#train_samples, validation_samples = train_test_split(samples, test_size=0.2)\n",
    "\n",
    "X_train = np.array(images)\n",
    "y_train = np.array(measurements)\n",
    "\n",
    "%matplotlib inline"
   ]
  },
  {
   "cell_type": "code",
   "execution_count": 9,
   "metadata": {
    "collapsed": true
   },
   "outputs": [],
   "source": [
    "def augment_brightness_camera_images(image):\n",
    "    '''\n",
    "    :param image: Input image\n",
    "    :return: output image with randomly adjusted brightness\n",
    "    '''\n",
    "\n",
    "    # convert to HSV so that its easy to adjust brightness\n",
    "    image1 = cv2.cvtColor(image,cv2.COLOR_RGB2HSV)\n",
    "\n",
    "    # randomly generate the brightness reduction factor\n",
    "    # Add a constant so that it prevents the image from being completely dark\n",
    "    random_bright = .25+np.random.uniform()\n",
    "\n",
    "    # Apply the brightness reduction to the V channel\n",
    "    image1[:,:,2] = image1[:,:,2]*random_bright\n",
    "\n",
    "    # convert to RBG again\n",
    "    image1 = cv2.cvtColor(image1,cv2.COLOR_HSV2RGB)\n",
    "    return image1"
   ]
  },
  {
   "cell_type": "code",
   "execution_count": 17,
   "metadata": {
    "collapsed": true
   },
   "outputs": [],
   "source": [
    "def my_generator(samples, batch_size=32):\n",
    "    N = (len(samples)//batch_size)*batch_size  # make the number of samples in 'lines' a multiple of batch_size\n",
    "\n",
    "    X_batch = np.zeros((batch_size, 160, 320, 3), dtype=np.float32)\n",
    "    y_batch = np.zeros((batch_size,), dtype=np.float32)\n",
    "    \n",
    "    while True:\n",
    "        for i in range(0, N, batch_size):\n",
    "            batch_start = i\n",
    "            batch_stop = i + batch_size\n",
    "            batch_lines = samples[batch_start:batch_stop]\n",
    "            images = []\n",
    "            measurements = []\n",
    "            for j, line in enumerate(batch_lines):\n",
    "                #choice = random.choice([0,1,2])\n",
    "                image = 'data/IMG/'+line[0].split('/')[-1]\n",
    "                image = mpimg.imread(image)\n",
    "                #crop the image\n",
    "                #imageBGR = image[50:135,:,:]\n",
    "                # apply subtle blur\n",
    "                '''imageBGR = cv2.GaussianBlur(imageBGR, (3,3), 0)\n",
    "                \n",
    "                imageBGR = cv2.resize(imageBGR,(320, 160), interpolation = cv2.INTER_AREA)\n",
    "                image = cv2.cvtColor(imageBGR,cv2.COLOR_BGR2RGB)'''\n",
    "                '''if choice == 0:\n",
    "                    steering = float(line[3])\n",
    "                \n",
    "                if choice == 1:\n",
    "                    steering = float(line[3]) + 0.25\n",
    "                \n",
    "                if choice == 2: \n",
    "                    steering = float(line[3]) - 0.25'''\n",
    "                \n",
    "                image = augment_brightness_camera_images(image)\n",
    "                \n",
    "                #images.append(image)\n",
    "                #measurements.append(steering)\n",
    "                steering = float(line[3])\n",
    "                \n",
    "                X_batch[j] = image\n",
    "                y_batch[j] = steering\n",
    "                \n",
    "            flip_indices = random.sample(range(X_batch.shape[0]), int(X_batch.shape[0] / 2))\n",
    "            X_batch[flip_indices] = X_batch[flip_indices, :, ::-1, :]\n",
    "            y_batch[flip_indices] = -y_batch[flip_indices]\n",
    "                                             \n",
    "            yield sklearn.utils.shuffle(X_batch, y_batch)\n"
   ]
  },
  {
   "cell_type": "code",
   "execution_count": 7,
   "metadata": {
    "scrolled": true
   },
   "outputs": [
    {
     "name": "stdout",
     "output_type": "stream",
     "text": [
      "Train on 19286 samples, validate on 4822 samples\n",
      "Epoch 1/3\n",
      "19286/19286 [==============================] - 56s - loss: 0.0258 - val_loss: 0.0250\n",
      "Epoch 2/3\n",
      "19286/19286 [==============================] - 48s - loss: 0.0208 - val_loss: 0.0237\n",
      "Epoch 3/3\n",
      "19286/19286 [==============================] - 47s - loss: 0.0187 - val_loss: 0.0254\n"
     ]
    }
   ],
   "source": [
    "#NVIDIA\n",
    "\n",
    "# compile and train the model using the generator function\n",
    "#train_generator = my_generator(train_samples, batch_size=32)\n",
    "#validation_generator = my_generator(validation_samples, batch_size=32)\n",
    "\n",
    "ch, row, col = 3, 160, 320\n",
    "\n",
    "model = Sequential()\n",
    "model.add(Lambda(lambda x: x/127.5 - 1., input_shape=(row, col, ch)))\n",
    "model.add(Cropping2D(cropping=((70,25), (0,0)), input_shape=(row,col,ch)))\n",
    "#model.add(Lambda(lambda x: x / 255.0 - 0.5, input_shape=(160,320,3)))\n",
    "model.add(Convolution2D(24,5,5, subsample=(2,2), activation='relu'))\n",
    "model.add(Convolution2D(36,5,5, subsample=(2,2), activation='relu'))\n",
    "model.add(Convolution2D(48,5,5, subsample=(2,2), activation='relu'))\n",
    "model.add(Convolution2D(64,3,3, activation='relu'))\n",
    "model.add(Convolution2D(64,3,3, activation='relu'))\n",
    "model.add(Flatten())\n",
    "model.add(Dense(1000))\n",
    "model.add(Dropout(0.5))\n",
    "model.add(Activation('relu'))\n",
    "model.add(Dense(500))\n",
    "model.add(Dense(100))\n",
    "#model.add(Dropout(0.5))\n",
    "model.add(Dense(50))\n",
    "#model.add(Dropout(0.5))\n",
    "model.add(Dense(20))\n",
    "#model.add(Dropout(0.5))\n",
    "model.add(Dense(10))\n",
    "model.add(Dense(1))\n",
    "#model.summary()\n",
    "\n",
    "model.compile(loss = 'mse', optimizer= 'adam')\n",
    "\n",
    "model.fit(X_train, y_train, validation_split = 0.2, shuffle = True, nb_epoch = 3)\n",
    "\n",
    "#model.fit_generator(train_generator, samples_per_epoch= len(train_samples), validation_data=validation_generator, nb_val_samples=len(validation_samples), nb_epoch=4)\n",
    "\n",
    "model.save('model1.h5')\n",
    "\n",
    "#model.summary()"
   ]
  },
  {
   "cell_type": "code",
   "execution_count": 10,
   "metadata": {},
   "outputs": [
    {
     "data": {
      "text/plain": [
       "'0.00000009'"
      ]
     },
     "execution_count": 10,
     "metadata": {},
     "output_type": "execute_result"
    }
   ],
   "source": [
    "float(\"9.4321e-08\")\n",
    "\"{:.8f}\".format(float(\"9.4321e-08\"))"
   ]
  },
  {
   "cell_type": "code",
   "execution_count": 7,
   "metadata": {},
   "outputs": [
    {
     "ename": "NameError",
     "evalue": "name 'X_train' is not defined",
     "output_type": "error",
     "traceback": [
      "\u001b[0;31m---------------------------------------------------------------------------\u001b[0m",
      "\u001b[0;31mNameError\u001b[0m                                 Traceback (most recent call last)",
      "\u001b[0;32m<ipython-input-7-01f95c019fbe>\u001b[0m in \u001b[0;36m<module>\u001b[0;34m()\u001b[0m\n\u001b[1;32m      1\u001b[0m \u001b[0mmodel\u001b[0m\u001b[0;34m.\u001b[0m\u001b[0mcompile\u001b[0m\u001b[0;34m(\u001b[0m\u001b[0mloss\u001b[0m\u001b[0;34m=\u001b[0m\u001b[0;34m'mse'\u001b[0m\u001b[0;34m,\u001b[0m \u001b[0moptimizer\u001b[0m\u001b[0;34m=\u001b[0m\u001b[0;34m'adam'\u001b[0m\u001b[0;34m)\u001b[0m\u001b[0;34m\u001b[0m\u001b[0m\n\u001b[0;32m----> 2\u001b[0;31m \u001b[0mmodel\u001b[0m\u001b[0;34m.\u001b[0m\u001b[0mfit\u001b[0m\u001b[0;34m(\u001b[0m\u001b[0mX_train\u001b[0m\u001b[0;34m,\u001b[0m\u001b[0my_train\u001b[0m\u001b[0;34m,\u001b[0m \u001b[0mvalidation_split\u001b[0m\u001b[0;34m=\u001b[0m\u001b[0;36m0.2\u001b[0m\u001b[0;34m,\u001b[0m \u001b[0mshuffle\u001b[0m\u001b[0;34m=\u001b[0m\u001b[0;32mTrue\u001b[0m\u001b[0;34m,\u001b[0m\u001b[0mnb_epoch\u001b[0m\u001b[0;34m=\u001b[0m\u001b[0;36m1\u001b[0m\u001b[0;34m)\u001b[0m\u001b[0;34m\u001b[0m\u001b[0m\n\u001b[0m\u001b[1;32m      3\u001b[0m \u001b[0mmodel\u001b[0m\u001b[0;34m.\u001b[0m\u001b[0msave\u001b[0m\u001b[0;34m(\u001b[0m\u001b[0;34m'model.h5'\u001b[0m\u001b[0;34m)\u001b[0m\u001b[0;34m\u001b[0m\u001b[0m\n",
      "\u001b[0;31mNameError\u001b[0m: name 'X_train' is not defined"
     ]
    }
   ],
   "source": [
    "model.compile(loss='mse', optimizer='adam')\n",
    "model.fit(X_train,y_train, validation_split=0.2, shuffle=True,nb_epoch=1)\n",
    "model.save('model.h5')"
   ]
  }
 ],
 "metadata": {
  "kernelspec": {
   "display_name": "Python 3",
   "language": "python",
   "name": "python3"
  },
  "language_info": {
   "codemirror_mode": {
    "name": "ipython",
    "version": 3
   },
   "file_extension": ".py",
   "mimetype": "text/x-python",
   "name": "python",
   "nbconvert_exporter": "python",
   "pygments_lexer": "ipython3",
   "version": "3.5.4"
  },
  "widgets": {
   "state": {},
   "version": "1.1.2"
  }
 },
 "nbformat": 4,
 "nbformat_minor": 2
}
