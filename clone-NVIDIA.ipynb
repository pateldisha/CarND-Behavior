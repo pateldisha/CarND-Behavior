{
 "cells": [
  {
   "cell_type": "code",
   "execution_count": 1,
   "metadata": {},
   "outputs": [
    {
     "name": "stderr",
     "output_type": "stream",
     "text": [
      "Using TensorFlow backend.\n"
     ]
    }
   ],
   "source": [
    "import os\n",
    "import csv\n",
    "import cv2\n",
    "import numpy as np\n",
    "import sklearn\n",
    "import matplotlib.pyplot as plt\n",
    "import matplotlib.image as mpimg\n",
    "import random\n",
    "\n",
    "from random import shuffle\n",
    "\n",
    "from sklearn.model_selection import train_test_split\n",
    "\n",
    "from keras.layers.advanced_activations import ELU"
   ]
  },
  {
   "cell_type": "code",
   "execution_count": 5,
   "metadata": {
    "collapsed": true
   },
   "outputs": [],
   "source": [
    "images = []\n",
    "samples = []\n",
    "with open('driving_log.csv') as csvfile:\n",
    "    reader = csv.reader(csvfile)\n",
    "    for line in reader:\n",
    "        samples.append(line)\n",
    "        \n",
    "\n",
    "'''for sample in samples:\n",
    "    \n",
    "    name = 'data/IMG/'+sample[0].split('/')[-1]\n",
    "    center_image = mpimg.imread(name)\n",
    "    images.append(center_image)\n",
    "    #image_RGB = cv2.cvtColor(center_image, cv2.COLOR_BGR2RGB)'''\n",
    "\n",
    "\n",
    "train_samples, validation_samples = train_test_split(samples, test_size=0.2)\n",
    "\n",
    "\n",
    "\n",
    "%matplotlib inline"
   ]
  },
  {
   "cell_type": "code",
   "execution_count": 9,
   "metadata": {
    "collapsed": true
   },
   "outputs": [],
   "source": [
    "#plt.imshow(images[1])"
   ]
  },
  {
   "cell_type": "code",
   "execution_count": 3,
   "metadata": {
    "collapsed": true
   },
   "outputs": [],
   "source": [
    "def augment_brightness_camera_images(image):\n",
    "    '''\n",
    "    :param image: Input image\n",
    "    :return: output image with randomly adjusted brightness\n",
    "    '''\n",
    "\n",
    "    # convert to HSV so that its easy to adjust brightness\n",
    "    image1 = cv2.cvtColor(image,cv2.COLOR_RGB2HSV)\n",
    "\n",
    "    # randomly generate the brightness reduction factor\n",
    "    # Add a constant so that it prevents the image from being completely dark\n",
    "    random_bright = .25+np.random.uniform()\n",
    "\n",
    "    # Apply the brightness reduction to the V channel\n",
    "    image1[:,:,2] = image1[:,:,2]*random_bright\n",
    "\n",
    "    # convert to RBG again\n",
    "    image1 = cv2.cvtColor(image1,cv2.COLOR_HSV2RGB)\n",
    "    return image1"
   ]
  },
  {
   "cell_type": "code",
   "execution_count": 15,
   "metadata": {
    "collapsed": true
   },
   "outputs": [],
   "source": [
    "def my_generator(samples, batch_size=32):\n",
    "    N = (len(samples)//batch_size)*batch_size  # make the number of samples in 'lines' a multiple of batch_size\n",
    "\n",
    "    X_batch = np.zeros((batch_size, 160, 320, 3), dtype=np.float32)\n",
    "    y_batch = np.zeros((batch_size,), dtype=np.float32)\n",
    "    \n",
    "    while True:\n",
    "        for i in range(0, N, batch_size):\n",
    "            batch_start = i\n",
    "            batch_stop = i + batch_size\n",
    "            batch_lines = samples[batch_start:batch_stop]\n",
    "            images = []\n",
    "            measurements = []\n",
    "            for j, line in enumerate(batch_lines):\n",
    "                #choice = random.choice([0,1,2])\n",
    "                image = 'data/IMG/'+line[0].split('/')[-1]\n",
    "                image = mpimg.imread(image)\n",
    "                #crop the image\n",
    "                #imageBGR = image[50:135,:,:]\n",
    "                # apply subtle blur\n",
    "                imageBGR = cv2.GaussianBlur(imageBGR, (3,3), 0)\n",
    "                \n",
    "                imageBGR = cv2.resize(imageBGR,(320, 160), interpolation = cv2.INTER_AREA)\n",
    "                image = cv2.cvtColor(imageBGR,cv2.COLOR_BGR2RGB)\n",
    "                '''if choice == 0:\n",
    "                    steering = float(line[3])\n",
    "                \n",
    "                if choice == 1:\n",
    "                    steering = float(line[3]) + 0.25\n",
    "                \n",
    "                if choice == 2: \n",
    "                    steering = float(line[3]) - 0.25'''\n",
    "                \n",
    "                #image = augment_brightness_camera_images(image)\n",
    "                \n",
    "                #images.append(image)\n",
    "                #measurements.append(steering)\n",
    "                steering = float(line[3])\n",
    "                \n",
    "                X_batch[j] = image\n",
    "                y_batch[j] = steering\n",
    "                \n",
    "            '''flip_indices = random.sample(range(X_batch.shape[0]), int(X_batch.shape[0] / 2))\n",
    "            X_batch[flip_indices] = X_batch[flip_indices, :, ::-1, :]\n",
    "            y_batch[flip_indices] = -y_batch[flip_indices]'''\n",
    "                                             \n",
    "            yield sklearn.utils.shuffle(X_batch, y_batch)\n"
   ]
  },
  {
   "cell_type": "code",
   "execution_count": 16,
   "metadata": {
    "scrolled": true
   },
   "outputs": [
    {
     "name": "stdout",
     "output_type": "stream",
     "text": [
      "Epoch 1/1\n",
      "6400/6428 [============================>.] - ETA: 0s - loss: 0.0155"
     ]
    },
    {
     "name": "stderr",
     "output_type": "stream",
     "text": [
      "/home/carnd/anaconda3/envs/carnd-term1/lib/python3.5/site-packages/keras/engine/training.py:1569: UserWarning: Epoch comprised more than `samples_per_epoch` samples, which might affect learning results. Set `samples_per_epoch` correctly to avoid this warning.\n",
      "  warnings.warn('Epoch comprised more than '\n"
     ]
    },
    {
     "name": "stdout",
     "output_type": "stream",
     "text": [
      "6432/6428 [==============================] - 14s - loss: 0.0155 - val_loss: 0.0095\n"
     ]
    }
   ],
   "source": [
    "#NVIDIA\n",
    "\n",
    "# compile and train the model using the generator function\n",
    "train_generator = my_generator(train_samples, batch_size=32)\n",
    "validation_generator = my_generator(validation_samples, batch_size=32)\n",
    "\n",
    "ch, row, col = 3, 160, 320\n",
    "\n",
    "model = Sequential()\n",
    "model.add(Lambda(lambda x: x/127.5 - 1., input_shape=(row, col, ch)))\n",
    "model.add(Cropping2D(cropping=((70,25), (0,0)), input_shape=(row,col,ch)))\n",
    "#model.add(Lambda(lambda x: x / 255.0 - 0.5, input_shape=(160,320,3)))\n",
    "model.add(Convolution2D(24,5,5, subsample=(2,2), activation='relu'))\n",
    "model.add(Convolution2D(36,5,5, subsample=(2,2), activation='relu'))\n",
    "model.add(Convolution2D(48,5,5, subsample=(2,2), activation='relu'))\n",
    "model.add(Convolution2D(64,3,3, activation='relu'))\n",
    "model.add(Convolution2D(64,3,3, activation='relu'))\n",
    "model.add(Flatten())\n",
    "model.add(Dense(1000))\n",
    "model.add(Dropout(0.5))\n",
    "model.add(Dense(100))\n",
    "#model.add(Dropout(0.5))\n",
    "model.add(Dense(50))\n",
    "#model.add(Dropout(0.5))\n",
    "model.add(Dense(20))\n",
    "#model.add(Dropout(0.5))\n",
    "model.add(Dense(10))\n",
    "model.add(Dense(1))\n",
    "#model.summary()\n",
    "\n",
    "model.compile(loss = 'mse', optimizer= 'adam')\n",
    "\n",
    "#model.fit(X_train, y_train, validation_split = 0.2, shuffle = True, nb_epoch = 1)\n",
    "\n",
    "model.fit_generator(train_generator, samples_per_epoch= len(train_samples), validation_data=validation_generator, nb_val_samples=len(validation_samples), nb_epoch=1)\n",
    "\n",
    "model.save('model1.h5')\n",
    "\n",
    "#model.summary()"
   ]
  },
  {
   "cell_type": "code",
   "execution_count": null,
   "metadata": {
    "collapsed": true
   },
   "outputs": [],
   "source": []
  },
  {
   "cell_type": "code",
   "execution_count": 8,
   "metadata": {
    "collapsed": true
   },
   "outputs": [],
   "source": [
    "from keras.models import Sequential, Model\n",
    "from keras.layers.core import Dense, Flatten, Lambda, Dropout\n",
    "from keras.layers.core import Lambda\n",
    "from keras.layers import Convolution2D\n",
    "from keras.layers.pooling import MaxPooling2D\n",
    "from keras.layers import Cropping2D"
   ]
  },
  {
   "cell_type": "code",
   "execution_count": null,
   "metadata": {
    "collapsed": true
   },
   "outputs": [],
   "source": [
    "model.compile(loss='mse', optimizer='adam')\n",
    "model.fit(X_train,y_train, validation_split=0.2, shuffle=True,nb_epoch=1)\n",
    "model.save('model.h5')"
   ]
  }
 ],
 "metadata": {
  "kernelspec": {
   "display_name": "Python 3",
   "language": "python",
   "name": "python3"
  },
  "language_info": {
   "codemirror_mode": {
    "name": "ipython",
    "version": 3
   },
   "file_extension": ".py",
   "mimetype": "text/x-python",
   "name": "python",
   "nbconvert_exporter": "python",
   "pygments_lexer": "ipython3",
   "version": "3.5.4"
  },
  "widgets": {
   "state": {},
   "version": "1.1.2"
  }
 },
 "nbformat": 4,
 "nbformat_minor": 2
}
